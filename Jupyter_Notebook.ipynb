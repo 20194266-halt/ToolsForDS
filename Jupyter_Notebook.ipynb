{
  "cells": [
    {
      "cell_type": "markdown",
      "metadata": {
        "id": "view-in-github",
        "colab_type": "text"
      },
      "source": [
        "<a href=\"https://colab.research.google.com/github/20194266-halt/ToolsForDS/blob/main/Jupyter_Notebook.ipynb\" target=\"_parent\"><img src=\"https://colab.research.google.com/assets/colab-badge.svg\" alt=\"Open In Colab\"/></a>"
      ]
    },
    {
      "cell_type": "markdown",
      "metadata": {
        "id": "_5tPpS1IN9Br"
      },
      "source": [
        "<center>\n",
        "    <img src=\"https://cf-courses-data.s3.us.cloud-object-storage.appdomain.cloud/IBMDeveloperSkillsNetwork-DS0105EN-SkillsNetwork/labs/Module2/images/SN_web_lightmode.png\" width=\"300\" alt=\"cognitiveclass.ai logo\">\n",
        "</center>\n"
      ]
    },
    {
      "cell_type": "markdown",
      "metadata": {
        "id": "z-4_Jsi7N9Bz"
      },
      "source": [
        "#### Add your code below following the instructions given in the course\n"
      ]
    },
    {
      "cell_type": "markdown",
      "metadata": {
        "id": "DVL7vCeVN9Bz"
      },
      "source": [
        "# Data Science Tools and Ecosystem"
      ]
    },
    {
      "cell_type": "markdown",
      "metadata": {
        "id": "lODwTyu2N9B0"
      },
      "source": [
        "### In this notebook, data science tools and ecosystem are summarized"
      ]
    },
    {
      "cell_type": "markdown",
      "metadata": {
        "id": "cCcBKHToN9B1"
      },
      "source": [
        "#### Data Science Languages\n",
        "1. Python\n",
        "2. R\n",
        "3. SQL\n",
        "4. Scala\n",
        "5. Java\n",
        "6. C++\n",
        "7. Julia\n",
        "8. JavaScript\n",
        "9. PHP\n",
        "10. Go\n",
        "11. Ruby\n",
        "12. Visual Basic"
      ]
    },
    {
      "cell_type": "markdown",
      "metadata": {
        "id": "mIQqeHwdN9B1"
      },
      "source": [
        "#### Data Science Library\n",
        "1. Pandas\n",
        "2. Numpy\n",
        "3. Matplotlib\n",
        "4. Seaborn\n",
        "5. Scikit-learn\n",
        "6. Keras\n",
        "7. TensorFlow\n",
        "8. PyTorch\n",
        "9. Apache Spark\n",
        "10. Vegas\n",
        "11. Big DL\n",
        "12. Ggplot2"
      ]
    },
    {
      "cell_type": "markdown",
      "metadata": {
        "id": "k5N_rGQTN9B2"
      },
      "source": [
        "#### Data Science Tools\n",
        "\n",
        "| Data Science Tools |\n",
        "| ------------------ |\n",
        "| Jupyter Notebook |\n",
        "| R Studio |\n",
        "| Anaconda |\n",
        "| Spider |\n",
        "| Zeppelin |"
      ]
    },
    {
      "cell_type": "markdown",
      "metadata": {
        "id": "8YAZZD3ON9B3"
      },
      "source": [
        "(5+6)*4"
      ]
    },
    {
      "cell_type": "code",
      "execution_count": null,
      "metadata": {
        "tags": [],
        "id": "IL-eh9vBN9B3",
        "outputId": "3068f932-e96b-4813-e77f-fc7ed5f4b841"
      },
      "outputs": [
        {
          "data": {
            "text/plain": [
              "12"
            ]
          },
          "execution_count": 1,
          "metadata": {},
          "output_type": "execute_result"
        }
      ],
      "source": [
        "3*4"
      ]
    },
    {
      "cell_type": "code",
      "execution_count": null,
      "metadata": {
        "tags": [],
        "id": "mAFfXYL8N9B6",
        "outputId": "992b5b04-4d13-4484-a74b-60afe74faa33"
      },
      "outputs": [
        {
          "data": {
            "text/plain": [
              "7"
            ]
          },
          "execution_count": 2,
          "metadata": {},
          "output_type": "execute_result"
        }
      ],
      "source": [
        "3+4"
      ]
    },
    {
      "cell_type": "code",
      "execution_count": null,
      "metadata": {
        "tags": [],
        "id": "xEMwPFJjN9B7",
        "outputId": "8c68e39c-e275-45e4-dd76-5ab3c21daea0"
      },
      "outputs": [
        {
          "name": "stdout",
          "output_type": "stream",
          "text": [
            "3:25:45\n"
          ]
        }
      ],
      "source": [
        "def convert(seconds):\n",
        "    seconds = seconds % (24 * 3600)\n",
        "    hour = seconds // 3600\n",
        "    seconds %= 3600\n",
        "    minutes = seconds // 60\n",
        "    seconds %= 60\n",
        "\n",
        "    return \"%d:%02d:%02d\" % (hour, minutes, seconds)\n",
        "\n",
        "\n",
        "n = 12345\n",
        "print(convert(n))"
      ]
    },
    {
      "cell_type": "markdown",
      "metadata": {
        "tags": [],
        "id": "ukMoSy3-N9B7"
      },
      "source": [
        "## Author\n",
        "\n",
        "[Carly La](https://www.linkedin.com/in/ha-la-388741215/)\n"
      ]
    },
    {
      "cell_type": "markdown",
      "metadata": {
        "id": "aU0ebpa5N9B8"
      },
      "source": [
        "## Objectives\n",
        "* Add commend to code cells\n",
        "* Create markdown cells\n",
        "* Add orderd or unorderd list to markdown cells\n",
        "* Format content of markdown cells with heading style\n",
        "\n"
      ]
    }
  ],
  "metadata": {
    "kernelspec": {
      "display_name": "Python",
      "language": "python",
      "name": "conda-env-python-py"
    },
    "language_info": {
      "codemirror_mode": {
        "name": "ipython",
        "version": 3
      },
      "file_extension": ".py",
      "mimetype": "text/x-python",
      "name": "python",
      "nbconvert_exporter": "python",
      "pygments_lexer": "ipython3",
      "version": "3.7.12"
    },
    "colab": {
      "provenance": [],
      "include_colab_link": true
    }
  },
  "nbformat": 4,
  "nbformat_minor": 0
}