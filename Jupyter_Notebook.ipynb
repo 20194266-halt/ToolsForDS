{
  "cells": [
    {
      "cell_type": "markdown",
      "metadata": {
        "id": "view-in-github",
        "colab_type": "text"
      },
      "source": [
        "<a href=\"https://colab.research.google.com/github/20194266-halt/ToolsForDS/blob/main/Jupyter_Notebook.ipynb\" target=\"_parent\"><img src=\"https://colab.research.google.com/assets/colab-badge.svg\" alt=\"Open In Colab\"/></a>"
      ]
    },
    {
      "cell_type": "markdown",
      "metadata": {
        "id": "IkxeiNWi91rC"
      },
      "source": [
        "<center>\n",
        "    <img src=\"https://cf-courses-data.s3.us.cloud-object-storage.appdomain.cloud/IBMDeveloperSkillsNetwork-DS0105EN-SkillsNetwork/labs/Module2/images/SN_web_lightmode.png\" width=\"300\" alt=\"cognitiveclass.ai logo\">\n",
        "</center>\n"
      ]
    },
    {
      "cell_type": "markdown",
      "metadata": {
        "id": "rfysNHOD91rK"
      },
      "source": [
        "#### Add your code below following the instructions given in the course\n"
      ]
    },
    {
      "cell_type": "markdown",
      "metadata": {
        "id": "Ha1Ipkcc91rM"
      },
      "source": [
        "# Project: Create Jupyterlite Notebook"
      ]
    },
    {
      "cell_type": "markdown",
      "metadata": {
        "id": "4Oz8OIfB91rO"
      },
      "source": [
        "### This is final project, create a Jupyterlite Notebook (in English) and share it via a public GitHub link."
      ]
    },
    {
      "cell_type": "markdown",
      "metadata": {
        "id": "kOuTCuj791rO"
      },
      "source": [
        "#### Data Science Languages\n",
        "* Python\n",
        "* R\n",
        "* Julia\n",
        "* Scala"
      ]
    },
    {
      "cell_type": "markdown",
      "metadata": {
        "id": "VJsghAoV91rQ"
      },
      "source": [
        "#### Data Science Library\n",
        "* TensorFlow\n",
        "* NumPy\n",
        "* SciPy\n",
        "* Pandas\n",
        "* Matplotlib\n",
        "* Keras\n",
        "* SciKit-Learn\n",
        "* PyTorch\n",
        "* Scrapy\n",
        "* BeautifulSoup"
      ]
    },
    {
      "cell_type": "markdown",
      "metadata": {
        "id": "i1ddES2C91rQ"
      },
      "source": [
        "#### Data Science Tools\n",
        "\n",
        "| Data Science Tools |\n",
        "| ------------------ |\n",
        "| Jupyter Notebook |\n",
        "| Github |"
      ]
    },
    {
      "cell_type": "markdown",
      "metadata": {
        "id": "8FvJ-GoV91rS"
      },
      "source": [
        "(5+6)*4"
      ]
    },
    {
      "cell_type": "code",
      "execution_count": null,
      "metadata": {
        "tags": [],
        "id": "f_dL0ev191rT",
        "outputId": "3e3abc3f-0126-4087-f72d-3969f01df75d"
      },
      "outputs": [
        {
          "data": {
            "text/plain": [
              "12"
            ]
          },
          "execution_count": 1,
          "metadata": {},
          "output_type": "execute_result"
        }
      ],
      "source": [
        "3*4"
      ]
    },
    {
      "cell_type": "code",
      "execution_count": null,
      "metadata": {
        "tags": [],
        "id": "zl5xwbLn91rW",
        "outputId": "d792dd30-cc51-472d-e4b0-9332532e55e9"
      },
      "outputs": [
        {
          "data": {
            "text/plain": [
              "7"
            ]
          },
          "execution_count": 2,
          "metadata": {},
          "output_type": "execute_result"
        }
      ],
      "source": [
        "3+4"
      ]
    },
    {
      "cell_type": "code",
      "execution_count": null,
      "metadata": {
        "tags": [],
        "id": "4KGffyNa91rW",
        "outputId": "ca8f18f6-042e-48ec-c389-503c8ac6784b"
      },
      "outputs": [
        {
          "name": "stdout",
          "output_type": "stream",
          "text": [
            "3:25:45\n"
          ]
        }
      ],
      "source": [
        "def convert(seconds):\n",
        "    seconds = seconds % (24 * 3600)\n",
        "    hour = seconds // 3600\n",
        "    seconds %= 3600\n",
        "    minutes = seconds // 60\n",
        "    seconds %= 60\n",
        "\n",
        "    return \"%d:%02d:%02d\" % (hour, minutes, seconds)\n",
        "\n",
        "\n",
        "n = 12345\n",
        "print(convert(n))"
      ]
    },
    {
      "cell_type": "markdown",
      "metadata": {
        "tags": [],
        "id": "LveXhXaI91rY"
      },
      "source": [
        "## Author\n",
        "\n",
        "[Carly La](https://www.linkedin.com/in/ha-la-388741215/)\n"
      ]
    },
    {
      "cell_type": "markdown",
      "metadata": {
        "id": "08j1M55L91rY"
      },
      "source": [
        "### Objectives\n",
        "* [Lakshmi Holla](https://www.linkedin.com/in/lakshmi-holla-b39062149/?utm_medium=Exinfluencer&utm_source=Exinfluencer&utm_content=000026UJ&utm_term=10006555&utm_id=NA-SkillsNetwork-Channel-SkillsNetworkCoursesIBMDeveloperSkillsNetworkDS0105ENSkillsNetwork984-2022-01-01)\n",
        "\n",
        "* [Malika Singla](https://www.linkedin.com/in/malika-goyal-04798622/?utm_medium=Exinfluencer&utm_source=Exinfluencer&utm_content=000026UJ&utm_term=10006555&utm_id=NA-SkillsNetwork-Channel-SkillsNetworkCoursesIBMDeveloperSkillsNetworkDS0105ENSkillsNetwork984-2022-01-01)\n",
        "\n"
      ]
    }
  ],
  "metadata": {
    "kernelspec": {
      "display_name": "Python",
      "language": "python",
      "name": "conda-env-python-py"
    },
    "language_info": {
      "codemirror_mode": {
        "name": "ipython",
        "version": 3
      },
      "file_extension": ".py",
      "mimetype": "text/x-python",
      "name": "python",
      "nbconvert_exporter": "python",
      "pygments_lexer": "ipython3",
      "version": "3.7.12"
    },
    "colab": {
      "provenance": [],
      "include_colab_link": true
    }
  },
  "nbformat": 4,
  "nbformat_minor": 0
}